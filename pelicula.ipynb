{
 "cells": [
  {
   "cell_type": "markdown",
   "id": "72841b05-1004-4e13-8495-68c968917ce9",
   "metadata": {},
   "source": [
    "## Importing the Data into Python\n",
    "We'll be using [pandas](https://pandas.pydata.org/docs/user_guide/index.html#user-guide), a data analysis package for python.\n",
    "\n",
    "The first step is to import the package, and use it to import the data as [dataframes](https://pandas.pydata.org/docs/reference/api/pandas.DataFrame.html). Since the data is stored as [CSV](https://en.wikipedia.org/wiki/Comma-separated_values) files, we should use [read_csv](https://pandas.pydata.org/pandas-docs/stable/reference/api/pandas.read_csv.html#pandas-read-csv)"
   ]
  },
  {
   "cell_type": "code",
   "execution_count": 1,
   "id": "27901060-21f5-4fe9-9406-b70e8e591d30",
   "metadata": {
    "tags": []
   },
   "outputs": [],
   "source": [
    "# original dataset from the GroupLens Research Project at the University of Minnesota\n",
    "import pandas as pd\n",
    "import numpy as np"
   ]
  },
  {
   "cell_type": "code",
   "execution_count": 2,
   "id": "ea7edf2b-99b8-4638-979d-5c1018ab03c3",
   "metadata": {},
   "outputs": [],
   "source": [
    "# read the data into dataframes\n",
    "df_movies = pd.read_csv(r'./movies.csv')\n",
    "df_ratings = pd.read_csv(r'./ratings_simplified.csv')"
   ]
  },
  {
   "cell_type": "markdown",
   "id": "b5e8390d",
   "metadata": {},
   "source": [
    "Lets take a look into the dataframes."
   ]
  },
  {
   "cell_type": "code",
   "execution_count": 3,
   "id": "9d0d6c5e",
   "metadata": {},
   "outputs": [
    {
     "name": "stdout",
     "output_type": "stream",
     "text": [
      "<class 'pandas.core.frame.DataFrame'>\n",
      "RangeIndex: 62423 entries, 0 to 62422\n",
      "Data columns (total 3 columns):\n",
      " #   Column   Non-Null Count  Dtype \n",
      "---  ------   --------------  ----- \n",
      " 0   movieId  62423 non-null  int64 \n",
      " 1   title    62423 non-null  object\n",
      " 2   genres   62423 non-null  object\n",
      "dtypes: int64(1), object(2)\n",
      "memory usage: 1.4+ MB\n"
     ]
    },
    {
     "data": {
      "text/html": [
       "<div>\n",
       "<style scoped>\n",
       "    .dataframe tbody tr th:only-of-type {\n",
       "        vertical-align: middle;\n",
       "    }\n",
       "\n",
       "    .dataframe tbody tr th {\n",
       "        vertical-align: top;\n",
       "    }\n",
       "\n",
       "    .dataframe thead th {\n",
       "        text-align: right;\n",
       "    }\n",
       "</style>\n",
       "<table border=\"1\" class=\"dataframe\">\n",
       "  <thead>\n",
       "    <tr style=\"text-align: right;\">\n",
       "      <th></th>\n",
       "      <th>movieId</th>\n",
       "      <th>title</th>\n",
       "      <th>genres</th>\n",
       "    </tr>\n",
       "  </thead>\n",
       "  <tbody>\n",
       "    <tr>\n",
       "      <th>0</th>\n",
       "      <td>1</td>\n",
       "      <td>Toy Story (1995)</td>\n",
       "      <td>Adventure|Animation|Children|Comedy|Fantasy</td>\n",
       "    </tr>\n",
       "    <tr>\n",
       "      <th>1</th>\n",
       "      <td>2</td>\n",
       "      <td>Jumanji (1995)</td>\n",
       "      <td>Adventure|Children|Fantasy</td>\n",
       "    </tr>\n",
       "    <tr>\n",
       "      <th>2</th>\n",
       "      <td>3</td>\n",
       "      <td>Grumpier Old Men (1995)</td>\n",
       "      <td>Comedy|Romance</td>\n",
       "    </tr>\n",
       "    <tr>\n",
       "      <th>3</th>\n",
       "      <td>4</td>\n",
       "      <td>Waiting to Exhale (1995)</td>\n",
       "      <td>Comedy|Drama|Romance</td>\n",
       "    </tr>\n",
       "    <tr>\n",
       "      <th>4</th>\n",
       "      <td>5</td>\n",
       "      <td>Father of the Bride Part II (1995)</td>\n",
       "      <td>Comedy</td>\n",
       "    </tr>\n",
       "    <tr>\n",
       "      <th>...</th>\n",
       "      <td>...</td>\n",
       "      <td>...</td>\n",
       "      <td>...</td>\n",
       "    </tr>\n",
       "    <tr>\n",
       "      <th>62418</th>\n",
       "      <td>209157</td>\n",
       "      <td>We (2018)</td>\n",
       "      <td>Drama</td>\n",
       "    </tr>\n",
       "    <tr>\n",
       "      <th>62419</th>\n",
       "      <td>209159</td>\n",
       "      <td>Window of the Soul (2001)</td>\n",
       "      <td>Documentary</td>\n",
       "    </tr>\n",
       "    <tr>\n",
       "      <th>62420</th>\n",
       "      <td>209163</td>\n",
       "      <td>Bad Poems (2018)</td>\n",
       "      <td>Comedy|Drama</td>\n",
       "    </tr>\n",
       "    <tr>\n",
       "      <th>62421</th>\n",
       "      <td>209169</td>\n",
       "      <td>A Girl Thing (2001)</td>\n",
       "      <td>(no genres listed)</td>\n",
       "    </tr>\n",
       "    <tr>\n",
       "      <th>62422</th>\n",
       "      <td>209171</td>\n",
       "      <td>Women of Devil's Island (1962)</td>\n",
       "      <td>Action|Adventure|Drama</td>\n",
       "    </tr>\n",
       "  </tbody>\n",
       "</table>\n",
       "<p>62423 rows × 3 columns</p>\n",
       "</div>"
      ],
      "text/plain": [
       "       movieId                               title  \\\n",
       "0            1                    Toy Story (1995)   \n",
       "1            2                      Jumanji (1995)   \n",
       "2            3             Grumpier Old Men (1995)   \n",
       "3            4            Waiting to Exhale (1995)   \n",
       "4            5  Father of the Bride Part II (1995)   \n",
       "...        ...                                 ...   \n",
       "62418   209157                           We (2018)   \n",
       "62419   209159           Window of the Soul (2001)   \n",
       "62420   209163                    Bad Poems (2018)   \n",
       "62421   209169                 A Girl Thing (2001)   \n",
       "62422   209171      Women of Devil's Island (1962)   \n",
       "\n",
       "                                            genres  \n",
       "0      Adventure|Animation|Children|Comedy|Fantasy  \n",
       "1                       Adventure|Children|Fantasy  \n",
       "2                                   Comedy|Romance  \n",
       "3                             Comedy|Drama|Romance  \n",
       "4                                           Comedy  \n",
       "...                                            ...  \n",
       "62418                                        Drama  \n",
       "62419                                  Documentary  \n",
       "62420                                 Comedy|Drama  \n",
       "62421                           (no genres listed)  \n",
       "62422                       Action|Adventure|Drama  \n",
       "\n",
       "[62423 rows x 3 columns]"
      ]
     },
     "execution_count": 3,
     "metadata": {},
     "output_type": "execute_result"
    }
   ],
   "source": [
    "df_movies.info()\n",
    "df_movies"
   ]
  },
  {
   "cell_type": "code",
   "execution_count": 4,
   "id": "3b9ce921",
   "metadata": {},
   "outputs": [
    {
     "name": "stdout",
     "output_type": "stream",
     "text": [
      "<class 'pandas.core.frame.DataFrame'>\n",
      "RangeIndex: 25000095 entries, 0 to 25000094\n",
      "Data columns (total 3 columns):\n",
      " #   Column   Dtype\n",
      "---  ------   -----\n",
      " 0   userId   int64\n",
      " 1   movieId  int64\n",
      " 2   rating   int64\n",
      "dtypes: int64(3)\n",
      "memory usage: 572.2 MB\n"
     ]
    },
    {
     "data": {
      "text/html": [
       "<div>\n",
       "<style scoped>\n",
       "    .dataframe tbody tr th:only-of-type {\n",
       "        vertical-align: middle;\n",
       "    }\n",
       "\n",
       "    .dataframe tbody tr th {\n",
       "        vertical-align: top;\n",
       "    }\n",
       "\n",
       "    .dataframe thead th {\n",
       "        text-align: right;\n",
       "    }\n",
       "</style>\n",
       "<table border=\"1\" class=\"dataframe\">\n",
       "  <thead>\n",
       "    <tr style=\"text-align: right;\">\n",
       "      <th></th>\n",
       "      <th>userId</th>\n",
       "      <th>movieId</th>\n",
       "      <th>rating</th>\n",
       "    </tr>\n",
       "  </thead>\n",
       "  <tbody>\n",
       "    <tr>\n",
       "      <th>0</th>\n",
       "      <td>1</td>\n",
       "      <td>296</td>\n",
       "      <td>10</td>\n",
       "    </tr>\n",
       "    <tr>\n",
       "      <th>1</th>\n",
       "      <td>1</td>\n",
       "      <td>306</td>\n",
       "      <td>7</td>\n",
       "    </tr>\n",
       "    <tr>\n",
       "      <th>2</th>\n",
       "      <td>1</td>\n",
       "      <td>307</td>\n",
       "      <td>10</td>\n",
       "    </tr>\n",
       "    <tr>\n",
       "      <th>3</th>\n",
       "      <td>1</td>\n",
       "      <td>665</td>\n",
       "      <td>10</td>\n",
       "    </tr>\n",
       "    <tr>\n",
       "      <th>4</th>\n",
       "      <td>1</td>\n",
       "      <td>899</td>\n",
       "      <td>7</td>\n",
       "    </tr>\n",
       "    <tr>\n",
       "      <th>...</th>\n",
       "      <td>...</td>\n",
       "      <td>...</td>\n",
       "      <td>...</td>\n",
       "    </tr>\n",
       "    <tr>\n",
       "      <th>25000090</th>\n",
       "      <td>162541</td>\n",
       "      <td>50872</td>\n",
       "      <td>9</td>\n",
       "    </tr>\n",
       "    <tr>\n",
       "      <th>25000091</th>\n",
       "      <td>162541</td>\n",
       "      <td>55768</td>\n",
       "      <td>5</td>\n",
       "    </tr>\n",
       "    <tr>\n",
       "      <th>25000092</th>\n",
       "      <td>162541</td>\n",
       "      <td>56176</td>\n",
       "      <td>4</td>\n",
       "    </tr>\n",
       "    <tr>\n",
       "      <th>25000093</th>\n",
       "      <td>162541</td>\n",
       "      <td>58559</td>\n",
       "      <td>8</td>\n",
       "    </tr>\n",
       "    <tr>\n",
       "      <th>25000094</th>\n",
       "      <td>162541</td>\n",
       "      <td>63876</td>\n",
       "      <td>10</td>\n",
       "    </tr>\n",
       "  </tbody>\n",
       "</table>\n",
       "<p>25000095 rows × 3 columns</p>\n",
       "</div>"
      ],
      "text/plain": [
       "          userId  movieId  rating\n",
       "0              1      296      10\n",
       "1              1      306       7\n",
       "2              1      307      10\n",
       "3              1      665      10\n",
       "4              1      899       7\n",
       "...          ...      ...     ...\n",
       "25000090  162541    50872       9\n",
       "25000091  162541    55768       5\n",
       "25000092  162541    56176       4\n",
       "25000093  162541    58559       8\n",
       "25000094  162541    63876      10\n",
       "\n",
       "[25000095 rows x 3 columns]"
      ]
     },
     "execution_count": 4,
     "metadata": {},
     "output_type": "execute_result"
    }
   ],
   "source": [
    "df_ratings.info()\n",
    "df_ratings"
   ]
  },
  {
   "cell_type": "markdown",
   "id": "66b35327-9fee-4d9e-aed8-d5abf537edde",
   "metadata": {},
   "source": [
    "## Metrics\n",
    "To identify the clients preferences, we need to determine what movies we should ask their\n",
    "opinions on. For now, lets just collect the total number of votes and average rating each movie has. Additionally, lets also compute the variability in the ratings. To do so, we can use the [groupby](https://pandas.pydata.org/pandas-docs/stable/reference/api/pandas.DataFrame.groupby.html) function available for dataframes."
   ]
  },
  {
   "cell_type": "code",
   "execution_count": 5,
   "id": "24308db5-9402-42eb-81d8-6b4d283555ca",
   "metadata": {},
   "outputs": [],
   "source": [
    "# get metrics\n",
    "df_dev = df_ratings.groupby('movieId')['rating'].std()\n",
    "df_mean = df_ratings.groupby('movieId')['rating'].mean()\n",
    "df_count = df_ratings.groupby('movieId')['rating'].count()"
   ]
  },
  {
   "cell_type": "markdown",
   "id": "3ffe3081",
   "metadata": {},
   "source": [
    "Lets merge these metrics together in a single dataframe. It is important to note that for a particular user their movie ratings might have correlations, however when aggregated over all users, this correlation gets weaker. Instead of having a complicated algorithm to find the best movies to guage preferences, lets just take the most rated movies, in descending order.\n",
    "For convenience, lets also add the movie title into the same dataframe."
   ]
  },
  {
   "cell_type": "code",
   "execution_count": 6,
   "id": "c9b1a9f8",
   "metadata": {},
   "outputs": [],
   "source": [
    "# merge\n",
    "df_metrics = pd.concat([df_count, df_mean, df_dev], axis=1)\n",
    "df_metrics.columns = ['count', 'mean', 'deviation']\n",
    "# filter\n",
    "df_metrics.drop(df_metrics[df_metrics['count'] < 10000].index, inplace = True)"
   ]
  },
  {
   "cell_type": "code",
   "execution_count": 7,
   "id": "cafe0343-abbf-404d-a070-2d58f8ac8214",
   "metadata": {
    "tags": []
   },
   "outputs": [
    {
     "data": {
      "text/html": [
       "<div>\n",
       "<style scoped>\n",
       "    .dataframe tbody tr th:only-of-type {\n",
       "        vertical-align: middle;\n",
       "    }\n",
       "\n",
       "    .dataframe tbody tr th {\n",
       "        vertical-align: top;\n",
       "    }\n",
       "\n",
       "    .dataframe thead th {\n",
       "        text-align: right;\n",
       "    }\n",
       "</style>\n",
       "<table border=\"1\" class=\"dataframe\">\n",
       "  <thead>\n",
       "    <tr style=\"text-align: right;\">\n",
       "      <th></th>\n",
       "      <th>movieId</th>\n",
       "      <th>count</th>\n",
       "      <th>mean</th>\n",
       "      <th>deviation</th>\n",
       "      <th>title</th>\n",
       "    </tr>\n",
       "  </thead>\n",
       "  <tbody>\n",
       "    <tr>\n",
       "      <th>0</th>\n",
       "      <td>356</td>\n",
       "      <td>81491</td>\n",
       "      <td>8.096023</td>\n",
       "      <td>1.877620</td>\n",
       "      <td>Forrest Gump (1994)</td>\n",
       "    </tr>\n",
       "    <tr>\n",
       "      <th>1</th>\n",
       "      <td>318</td>\n",
       "      <td>81482</td>\n",
       "      <td>8.827152</td>\n",
       "      <td>1.520888</td>\n",
       "      <td>Shawshank Redemption, The (1994)</td>\n",
       "    </tr>\n",
       "    <tr>\n",
       "      <th>2</th>\n",
       "      <td>296</td>\n",
       "      <td>79672</td>\n",
       "      <td>8.377824</td>\n",
       "      <td>1.917676</td>\n",
       "      <td>Pulp Fiction (1994)</td>\n",
       "    </tr>\n",
       "    <tr>\n",
       "      <th>3</th>\n",
       "      <td>593</td>\n",
       "      <td>74127</td>\n",
       "      <td>8.302683</td>\n",
       "      <td>1.723758</td>\n",
       "      <td>Silence of the Lambs, The (1991)</td>\n",
       "    </tr>\n",
       "    <tr>\n",
       "      <th>4</th>\n",
       "      <td>2571</td>\n",
       "      <td>72674</td>\n",
       "      <td>8.308198</td>\n",
       "      <td>1.825748</td>\n",
       "      <td>Matrix, The (1999)</td>\n",
       "    </tr>\n",
       "    <tr>\n",
       "      <th>...</th>\n",
       "      <td>...</td>\n",
       "      <td>...</td>\n",
       "      <td>...</td>\n",
       "      <td>...</td>\n",
       "      <td>...</td>\n",
       "    </tr>\n",
       "    <tr>\n",
       "      <th>583</th>\n",
       "      <td>2078</td>\n",
       "      <td>10052</td>\n",
       "      <td>7.300537</td>\n",
       "      <td>1.866745</td>\n",
       "      <td>Jungle Book, The (1967)</td>\n",
       "    </tr>\n",
       "    <tr>\n",
       "      <th>584</th>\n",
       "      <td>56782</td>\n",
       "      <td>10044</td>\n",
       "      <td>7.965452</td>\n",
       "      <td>1.876157</td>\n",
       "      <td>There Will Be Blood (2007)</td>\n",
       "    </tr>\n",
       "    <tr>\n",
       "      <th>585</th>\n",
       "      <td>529</td>\n",
       "      <td>10037</td>\n",
       "      <td>7.698416</td>\n",
       "      <td>1.644286</td>\n",
       "      <td>Searching for Bobby Fischer (1993)</td>\n",
       "    </tr>\n",
       "    <tr>\n",
       "      <th>586</th>\n",
       "      <td>96610</td>\n",
       "      <td>10012</td>\n",
       "      <td>7.310328</td>\n",
       "      <td>1.680528</td>\n",
       "      <td>Looper (2012)</td>\n",
       "    </tr>\n",
       "    <tr>\n",
       "      <th>587</th>\n",
       "      <td>8984</td>\n",
       "      <td>10005</td>\n",
       "      <td>6.654673</td>\n",
       "      <td>1.930569</td>\n",
       "      <td>Ocean's Twelve (2004)</td>\n",
       "    </tr>\n",
       "  </tbody>\n",
       "</table>\n",
       "<p>588 rows × 5 columns</p>\n",
       "</div>"
      ],
      "text/plain": [
       "     movieId  count      mean  deviation                               title\n",
       "0        356  81491  8.096023   1.877620                 Forrest Gump (1994)\n",
       "1        318  81482  8.827152   1.520888    Shawshank Redemption, The (1994)\n",
       "2        296  79672  8.377824   1.917676                 Pulp Fiction (1994)\n",
       "3        593  74127  8.302683   1.723758    Silence of the Lambs, The (1991)\n",
       "4       2571  72674  8.308198   1.825748                  Matrix, The (1999)\n",
       "..       ...    ...       ...        ...                                 ...\n",
       "583     2078  10052  7.300537   1.866745             Jungle Book, The (1967)\n",
       "584    56782  10044  7.965452   1.876157          There Will Be Blood (2007)\n",
       "585      529  10037  7.698416   1.644286  Searching for Bobby Fischer (1993)\n",
       "586    96610  10012  7.310328   1.680528                       Looper (2012)\n",
       "587     8984  10005  6.654673   1.930569               Ocean's Twelve (2004)\n",
       "\n",
       "[588 rows x 5 columns]"
      ]
     },
     "execution_count": 7,
     "metadata": {},
     "output_type": "execute_result"
    }
   ],
   "source": [
    "# sort and add name to df_metrics\n",
    "df_metrics.sort_values('count', ascending=False, inplace=True)\n",
    "df_movies.set_index = 'movieId'\n",
    "df_movies.drop(columns='genres', inplace=True, errors='ignore')\n",
    "df_metrics = pd.merge(df_metrics, df_movies, on='movieId', how='left')\n",
    "df_metrics.reindex()"
   ]
  },
  {
   "cell_type": "markdown",
   "id": "a49897b9",
   "metadata": {},
   "source": [
    "## Generating Client Profile\n",
    "Now, we need to query the client on these movies to generate their profile, lets prompt the client until they provide 10 valid ratings. We need to keep track of the rating, and the movieId. Additionally, we need to ensure that the rating is valid. Lets start be telling\n",
    "the client what we need from them."
   ]
  },
  {
   "cell_type": "code",
   "execution_count": 8,
   "id": "4392dcec-d28d-4942-a4bd-a4ae72054b53",
   "metadata": {},
   "outputs": [
    {
     "name": "stdout",
     "output_type": "stream",
     "text": [
      "Hello viewer! Before we can start recommending movies,\n",
      "We need you to rate a few movies to compute your preference profile.\n",
      "Please rate the following movies on a scale of 1 to 10.\n",
      "If you wish to skip rating a movie, press ENTER.\n"
     ]
    }
   ],
   "source": [
    "client_ratings = 0\n",
    "required_ratings = 10\n",
    "# Prompt client\n",
    "print(\"Hello viewer! Before we can start recommending movies,\")\n",
    "print( \"We need you to rate a few movies to compute your preference profile.\")\n",
    "print( \"Please rate the following movies on a scale of 1 to 10.\")\n",
    "print( \"If you wish to skip rating a movie, press ENTER.\")"
   ]
  },
  {
   "cell_type": "markdown",
   "id": "e1f80d51",
   "metadata": {},
   "source": [
    "Now, we need to write code that iterates over the movies we have curated, and asks the client to rate them until we have 10 valid ratings. We can do this using the [iterrows](https://pandas.pydata.org/docs/reference/api/pandas.DataFrame.iterrows.html) feature for dataframes. Lets store the ratings in a dictionary for now. Use the function given below, to collect the client response."
   ]
  },
  {
   "cell_type": "code",
   "execution_count": 9,
   "id": "17605769",
   "metadata": {},
   "outputs": [],
   "source": [
    "def prompt_till_valid(movie_title):\n",
    "    client_prompt = \"{}: \".format(movie_title)\n",
    "    while True:\n",
    "        client_response = input(client_prompt)\n",
    "        # skip if necessary\n",
    "        if (client_response == ''):\n",
    "            break\n",
    "        # else, convert input to float\n",
    "        try:\n",
    "            client_response = float(client_response)\n",
    "        except ValueError:\n",
    "            print(\"Sorry, we can only accept numerical ratings\")\n",
    "        else:\n",
    "            # check if rating in 1-10\n",
    "            if (1 <= client_response <= 10):\n",
    "                break\n",
    "            print(\"Sorry, ratings must be between 1 and 10\")\n",
    "    return client_response"
   ]
  },
  {
   "cell_type": "code",
   "execution_count": 10,
   "id": "52ed4b9b",
   "metadata": {},
   "outputs": [
    {
     "name": "stdout",
     "output_type": "stream",
     "text": [
      "Forrest Gump (1994): 1\n",
      "Shawshank Redemption, The (1994): 2\n",
      "Pulp Fiction (1994): 3\n",
      "Silence of the Lambs, The (1991): 4\n",
      "Matrix, The (1999): 5\n",
      "Star Wars: Episode IV - A New Hope (1977): 6\n",
      "Jurassic Park (1993): 7\n",
      "Schindler's List (1993): 8\n",
      "Braveheart (1995): 9\n",
      "Fight Club (1999): 10\n"
     ]
    }
   ],
   "source": [
    "client_ratings = {}\n",
    "required_ratings = 10\n",
    "for index, movie in df_metrics.iterrows():\n",
    "    client_response = prompt_till_valid(movie['title'])\n",
    "    # add to dictionary if valid rating\n",
    "    if (client_response != ''):\n",
    "        client_ratings[movie['movieId']] = client_response\n",
    "    # check if we have enough ratings\n",
    "    if (len(client_ratings) == required_ratings):\n",
    "        break"
   ]
  },
  {
   "cell_type": "markdown",
   "id": "42d433b1",
   "metadata": {},
   "source": [
    "## Computing Cosine Similarity\n",
    "Now, we have enough ratings to start computing the similarity. First, lets create a simplified ratings dataframe to compute the similarity. We can drop ratings of movies that the client has not rated."
   ]
  },
  {
   "cell_type": "code",
   "execution_count": 11,
   "id": "7093259c",
   "metadata": {},
   "outputs": [],
   "source": [
    "client_movies = list(client_ratings.keys())\n",
    "df_simple = df_ratings\n",
    "df_simple.drop(df_simple[~df_simple.movieId.isin(client_movies)].index, inplace=True, errors='ignore')"
   ]
  },
  {
   "cell_type": "markdown",
   "id": "221f3207",
   "metadata": {},
   "source": [
    "Additionally, to make sure the similarity scores are accurate, lets only consider users that have rated at least half the movies the client has."
   ]
  },
  {
   "cell_type": "code",
   "execution_count": 12,
   "id": "fc563560",
   "metadata": {},
   "outputs": [],
   "source": [
    "df_simple = df_simple[df_simple['userId'].map(df_simple['userId'].value_counts()) >= required_ratings / 2]"
   ]
  },
  {
   "cell_type": "markdown",
   "id": "0a409353",
   "metadata": {},
   "source": [
    "Now, lets create a structure to store the similarity between the client and every other user. We can use this to identify the most similar users.\n",
    "\n",
    "Recalling the formula for calculating cosine similarity, we need to compute user and client magnitudes, as well as pairwise dot products. First, lets create a dataframe to store these values for each user."
   ]
  },
  {
   "cell_type": "code",
   "execution_count": 13,
   "id": "101fe934",
   "metadata": {},
   "outputs": [],
   "source": [
    "df_similarity = pd.DataFrame(index=df_simple['userId'].unique(), \n",
    "                             columns = ['squaredSum', 'dotProd'])\n",
    "df_similarity.fillna(0, inplace=True)"
   ]
  },
  {
   "cell_type": "markdown",
   "id": "7468a299",
   "metadata": {},
   "source": [
    "Now, to compute these values, we can do this iteratively as we go over the simplfied ratings dataframe. Lets compute the squared sum first, and take the root afterwards."
   ]
  },
  {
   "cell_type": "code",
   "execution_count": 14,
   "id": "058c0b9d",
   "metadata": {},
   "outputs": [
    {
     "name": "stderr",
     "output_type": "stream",
     "text": [
      "[=========================================================================] 100%\n"
     ]
    }
   ],
   "source": [
    "import progressbar\n",
    "n = len(df_simple)\n",
    "bar = progressbar.ProgressBar(maxval=n, \\\n",
    "    widgets=[progressbar.Bar('=', '[', ']'), ' ', progressbar.Percentage()])\n",
    "bar.start()\n",
    "i = 0\n",
    "for index, rating in df_simple.iterrows():\n",
    "    bar.update(i)\n",
    "    df_similarity.loc[rating['userId'], 'squaredSum'] += rating['rating'] ** 2\n",
    "    df_similarity.loc[rating['userId'], 'dotProd'] += rating['rating'] * client_ratings[rating['movieId']]\n",
    "    i += 1\n",
    "bar.finish()"
   ]
  },
  {
   "cell_type": "code",
   "execution_count": 15,
   "id": "c6c7cb9f",
   "metadata": {},
   "outputs": [
    {
     "data": {
      "text/html": [
       "<div>\n",
       "<style scoped>\n",
       "    .dataframe tbody tr th:only-of-type {\n",
       "        vertical-align: middle;\n",
       "    }\n",
       "\n",
       "    .dataframe tbody tr th {\n",
       "        vertical-align: top;\n",
       "    }\n",
       "\n",
       "    .dataframe thead th {\n",
       "        text-align: right;\n",
       "    }\n",
       "</style>\n",
       "<table border=\"1\" class=\"dataframe\">\n",
       "  <thead>\n",
       "    <tr style=\"text-align: right;\">\n",
       "      <th></th>\n",
       "      <th>squaredSum</th>\n",
       "      <th>dotProd</th>\n",
       "    </tr>\n",
       "  </thead>\n",
       "  <tbody>\n",
       "    <tr>\n",
       "      <th>2</th>\n",
       "      <td>597</td>\n",
       "      <td>337</td>\n",
       "    </tr>\n",
       "    <tr>\n",
       "      <th>3</th>\n",
       "      <td>600</td>\n",
       "      <td>366</td>\n",
       "    </tr>\n",
       "    <tr>\n",
       "      <th>8</th>\n",
       "      <td>440</td>\n",
       "      <td>244</td>\n",
       "    </tr>\n",
       "    <tr>\n",
       "      <th>10</th>\n",
       "      <td>552</td>\n",
       "      <td>278</td>\n",
       "    </tr>\n",
       "    <tr>\n",
       "      <th>12</th>\n",
       "      <td>609</td>\n",
       "      <td>344</td>\n",
       "    </tr>\n",
       "    <tr>\n",
       "      <th>...</th>\n",
       "      <td>...</td>\n",
       "      <td>...</td>\n",
       "    </tr>\n",
       "    <tr>\n",
       "      <th>162530</th>\n",
       "      <td>436</td>\n",
       "      <td>258</td>\n",
       "    </tr>\n",
       "    <tr>\n",
       "      <th>162533</th>\n",
       "      <td>586</td>\n",
       "      <td>361</td>\n",
       "    </tr>\n",
       "    <tr>\n",
       "      <th>162534</th>\n",
       "      <td>485</td>\n",
       "      <td>384</td>\n",
       "    </tr>\n",
       "    <tr>\n",
       "      <th>162538</th>\n",
       "      <td>310</td>\n",
       "      <td>224</td>\n",
       "    </tr>\n",
       "    <tr>\n",
       "      <th>162541</th>\n",
       "      <td>558</td>\n",
       "      <td>351</td>\n",
       "    </tr>\n",
       "  </tbody>\n",
       "</table>\n",
       "<p>75309 rows × 2 columns</p>\n",
       "</div>"
      ],
      "text/plain": [
       "        squaredSum  dotProd\n",
       "2              597      337\n",
       "3              600      366\n",
       "8              440      244\n",
       "10             552      278\n",
       "12             609      344\n",
       "...            ...      ...\n",
       "162530         436      258\n",
       "162533         586      361\n",
       "162534         485      384\n",
       "162538         310      224\n",
       "162541         558      351\n",
       "\n",
       "[75309 rows x 2 columns]"
      ]
     },
     "execution_count": 15,
     "metadata": {},
     "output_type": "execute_result"
    }
   ],
   "source": [
    "df_similarity"
   ]
  },
  {
   "cell_type": "markdown",
   "id": "a44f24be",
   "metadata": {},
   "source": [
    "Note how inefficient this is. We can speed up this process by taking advantage of method chaining, and the groupby function."
   ]
  },
  {
   "cell_type": "code",
   "execution_count": 45,
   "id": "f121ad85",
   "metadata": {},
   "outputs": [],
   "source": [
    "df_similarity = pd.DataFrame(index=df_simple['userId'].unique(), \n",
    "                             columns = ['magnitude', 'dotProd'])\n",
    "df_similarity.fillna(0, inplace=True)"
   ]
  },
  {
   "cell_type": "code",
   "execution_count": 46,
   "id": "1b18933f",
   "metadata": {},
   "outputs": [],
   "source": [
    "def computeDotProd(df):\n",
    "    df_dict = df.drop(columns = 'userId')\n",
    "    user_ratings = dict(df_dict.values)\n",
    "    return sum(user_ratings[key]*client_ratings.get(key) for key in user_ratings)"
   ]
  },
  {
   "cell_type": "code",
   "execution_count": 47,
   "id": "51bfe01b",
   "metadata": {},
   "outputs": [],
   "source": [
    "df_similarity['magnitude'] = df_simple['rating'].pow(2).groupby(df_simple['userId']).sum().pow(0.5)\n",
    "df_similarity['dotProd'] = df_simple.groupby('userId').apply(computeDotProd)"
   ]
  },
  {
   "cell_type": "code",
   "execution_count": 48,
   "id": "6536defd",
   "metadata": {},
   "outputs": [
    {
     "data": {
      "text/html": [
       "<div>\n",
       "<style scoped>\n",
       "    .dataframe tbody tr th:only-of-type {\n",
       "        vertical-align: middle;\n",
       "    }\n",
       "\n",
       "    .dataframe tbody tr th {\n",
       "        vertical-align: top;\n",
       "    }\n",
       "\n",
       "    .dataframe thead th {\n",
       "        text-align: right;\n",
       "    }\n",
       "</style>\n",
       "<table border=\"1\" class=\"dataframe\">\n",
       "  <thead>\n",
       "    <tr style=\"text-align: right;\">\n",
       "      <th></th>\n",
       "      <th>magnitude</th>\n",
       "      <th>dotProd</th>\n",
       "    </tr>\n",
       "  </thead>\n",
       "  <tbody>\n",
       "    <tr>\n",
       "      <th>2</th>\n",
       "      <td>24.433583</td>\n",
       "      <td>337.0</td>\n",
       "    </tr>\n",
       "    <tr>\n",
       "      <th>3</th>\n",
       "      <td>24.494897</td>\n",
       "      <td>366.0</td>\n",
       "    </tr>\n",
       "    <tr>\n",
       "      <th>8</th>\n",
       "      <td>20.976177</td>\n",
       "      <td>244.0</td>\n",
       "    </tr>\n",
       "    <tr>\n",
       "      <th>10</th>\n",
       "      <td>23.494680</td>\n",
       "      <td>278.0</td>\n",
       "    </tr>\n",
       "    <tr>\n",
       "      <th>12</th>\n",
       "      <td>24.677925</td>\n",
       "      <td>344.0</td>\n",
       "    </tr>\n",
       "    <tr>\n",
       "      <th>...</th>\n",
       "      <td>...</td>\n",
       "      <td>...</td>\n",
       "    </tr>\n",
       "    <tr>\n",
       "      <th>162530</th>\n",
       "      <td>20.880613</td>\n",
       "      <td>258.0</td>\n",
       "    </tr>\n",
       "    <tr>\n",
       "      <th>162533</th>\n",
       "      <td>24.207437</td>\n",
       "      <td>361.0</td>\n",
       "    </tr>\n",
       "    <tr>\n",
       "      <th>162534</th>\n",
       "      <td>22.022716</td>\n",
       "      <td>384.0</td>\n",
       "    </tr>\n",
       "    <tr>\n",
       "      <th>162538</th>\n",
       "      <td>17.606817</td>\n",
       "      <td>224.0</td>\n",
       "    </tr>\n",
       "    <tr>\n",
       "      <th>162541</th>\n",
       "      <td>23.622024</td>\n",
       "      <td>351.0</td>\n",
       "    </tr>\n",
       "  </tbody>\n",
       "</table>\n",
       "<p>75309 rows × 2 columns</p>\n",
       "</div>"
      ],
      "text/plain": [
       "        magnitude  dotProd\n",
       "2       24.433583    337.0\n",
       "3       24.494897    366.0\n",
       "8       20.976177    244.0\n",
       "10      23.494680    278.0\n",
       "12      24.677925    344.0\n",
       "...           ...      ...\n",
       "162530  20.880613    258.0\n",
       "162533  24.207437    361.0\n",
       "162534  22.022716    384.0\n",
       "162538  17.606817    224.0\n",
       "162541  23.622024    351.0\n",
       "\n",
       "[75309 rows x 2 columns]"
      ]
     },
     "execution_count": 48,
     "metadata": {},
     "output_type": "execute_result"
    }
   ],
   "source": [
    "df_similarity"
   ]
  },
  {
   "cell_type": "markdown",
   "id": "32fb90f6",
   "metadata": {},
   "source": [
    "Once we compute the client magnitude, we can compute the similarity"
   ]
  },
  {
   "cell_type": "code",
   "execution_count": 49,
   "id": "c27086d1",
   "metadata": {},
   "outputs": [],
   "source": [
    "client_magnitude = np.linalg.norm(list(client_ratings.values()))\n",
    "df_similarity['similarity'] = df_similarity['dotProd'] / (df_similarity['magnitude'] * client_magnitude)\n",
    "df_similarity.sort_values(by='similarity', ascending=False, inplace=True)"
   ]
  },
  {
   "cell_type": "code",
   "execution_count": 52,
   "id": "536f1944",
   "metadata": {},
   "outputs": [
    {
     "data": {
      "text/html": [
       "<div>\n",
       "<style scoped>\n",
       "    .dataframe tbody tr th:only-of-type {\n",
       "        vertical-align: middle;\n",
       "    }\n",
       "\n",
       "    .dataframe tbody tr th {\n",
       "        vertical-align: top;\n",
       "    }\n",
       "\n",
       "    .dataframe thead th {\n",
       "        text-align: right;\n",
       "    }\n",
       "</style>\n",
       "<table border=\"1\" class=\"dataframe\">\n",
       "  <thead>\n",
       "    <tr style=\"text-align: right;\">\n",
       "      <th></th>\n",
       "      <th>userId</th>\n",
       "      <th>magnitude</th>\n",
       "      <th>dotProd</th>\n",
       "      <th>similarity</th>\n",
       "    </tr>\n",
       "  </thead>\n",
       "  <tbody>\n",
       "    <tr>\n",
       "      <th>0</th>\n",
       "      <td>33306</td>\n",
       "      <td>22.516660</td>\n",
       "      <td>426.0</td>\n",
       "      <td>0.964218</td>\n",
       "    </tr>\n",
       "    <tr>\n",
       "      <th>1</th>\n",
       "      <td>143107</td>\n",
       "      <td>21.908902</td>\n",
       "      <td>412.0</td>\n",
       "      <td>0.958399</td>\n",
       "    </tr>\n",
       "    <tr>\n",
       "      <th>2</th>\n",
       "      <td>88275</td>\n",
       "      <td>25.748786</td>\n",
       "      <td>483.0</td>\n",
       "      <td>0.956005</td>\n",
       "    </tr>\n",
       "    <tr>\n",
       "      <th>3</th>\n",
       "      <td>142882</td>\n",
       "      <td>26.457513</td>\n",
       "      <td>496.0</td>\n",
       "      <td>0.955438</td>\n",
       "    </tr>\n",
       "    <tr>\n",
       "      <th>4</th>\n",
       "      <td>160972</td>\n",
       "      <td>23.194827</td>\n",
       "      <td>434.0</td>\n",
       "      <td>0.953604</td>\n",
       "    </tr>\n",
       "    <tr>\n",
       "      <th>...</th>\n",
       "      <td>...</td>\n",
       "      <td>...</td>\n",
       "      <td>...</td>\n",
       "      <td>...</td>\n",
       "    </tr>\n",
       "    <tr>\n",
       "      <th>75304</th>\n",
       "      <td>116350</td>\n",
       "      <td>11.789826</td>\n",
       "      <td>43.0</td>\n",
       "      <td>0.185879</td>\n",
       "    </tr>\n",
       "    <tr>\n",
       "      <th>75305</th>\n",
       "      <td>104381</td>\n",
       "      <td>13.564660</td>\n",
       "      <td>47.0</td>\n",
       "      <td>0.176587</td>\n",
       "    </tr>\n",
       "    <tr>\n",
       "      <th>75306</th>\n",
       "      <td>30219</td>\n",
       "      <td>14.247807</td>\n",
       "      <td>46.0</td>\n",
       "      <td>0.164543</td>\n",
       "    </tr>\n",
       "    <tr>\n",
       "      <th>75307</th>\n",
       "      <td>71065</td>\n",
       "      <td>9.219544</td>\n",
       "      <td>29.0</td>\n",
       "      <td>0.160309</td>\n",
       "    </tr>\n",
       "    <tr>\n",
       "      <th>75308</th>\n",
       "      <td>114627</td>\n",
       "      <td>14.247807</td>\n",
       "      <td>44.0</td>\n",
       "      <td>0.157389</td>\n",
       "    </tr>\n",
       "  </tbody>\n",
       "</table>\n",
       "<p>75309 rows × 4 columns</p>\n",
       "</div>"
      ],
      "text/plain": [
       "       userId  magnitude  dotProd  similarity\n",
       "0       33306  22.516660    426.0    0.964218\n",
       "1      143107  21.908902    412.0    0.958399\n",
       "2       88275  25.748786    483.0    0.956005\n",
       "3      142882  26.457513    496.0    0.955438\n",
       "4      160972  23.194827    434.0    0.953604\n",
       "...       ...        ...      ...         ...\n",
       "75304  116350  11.789826     43.0    0.185879\n",
       "75305  104381  13.564660     47.0    0.176587\n",
       "75306   30219  14.247807     46.0    0.164543\n",
       "75307   71065   9.219544     29.0    0.160309\n",
       "75308  114627  14.247807     44.0    0.157389\n",
       "\n",
       "[75309 rows x 4 columns]"
      ]
     },
     "execution_count": 52,
     "metadata": {},
     "output_type": "execute_result"
    }
   ],
   "source": [
    "df_similarity"
   ]
  },
  {
   "cell_type": "markdown",
   "id": "6c41f2b7",
   "metadata": {},
   "source": [
    "Great, lets bring back the userId as a column, and plot the similarities"
   ]
  },
  {
   "cell_type": "code",
   "execution_count": 51,
   "id": "795df826",
   "metadata": {},
   "outputs": [],
   "source": [
    "df_similarity.reset_index(names='userId', inplace=True)"
   ]
  },
  {
   "cell_type": "code",
   "execution_count": 53,
   "id": "694f8a70",
   "metadata": {},
   "outputs": [
    {
     "data": {
      "text/plain": [
       "<Axes: >"
      ]
     },
     "execution_count": 53,
     "metadata": {},
     "output_type": "execute_result"
    },
    {
     "data": {
      "image/png": "[encoded data removed]",
      "text/plain": [
       "<Figure size 640x480 with 1 Axes>"
      ]
     },
     "metadata": {},
     "output_type": "display_data"
    }
   ],
   "source": [
    "df_similarity['similarity'].plot()"
   ]
  }
 ],
 "metadata": {
  "kernelspec": {
   "display_name": "Python 3 (ipykernel)",
   "language": "python",
   "name": "python3"
  },
  "language_info": {
   "codemirror_mode": {
    "name": "ipython",
    "version": 3
   },
   "file_extension": ".py",
   "mimetype": "text/x-python",
   "name": "python",
   "nbconvert_exporter": "python",
   "pygments_lexer": "ipython3",
   "version": "3.9.18"
  }
 },
 "nbformat": 4,
 "nbformat_minor": 5
}
